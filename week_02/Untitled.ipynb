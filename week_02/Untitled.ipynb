{
 "cells": [
  {
   "cell_type": "code",
   "execution_count": 8,
   "id": "354af98f-d58c-49f3-9ef5-c485ec2cb979",
   "metadata": {},
   "outputs": [],
   "source": [
    "atom = 'Oxygen'\n",
    "atomic_number = 8\n",
    "output= atom + str(atomic_number)\n",
    "assert output== 'Oxygen8'"
   ]
  }
 ],
 "metadata": {
  "kernelspec": {
   "display_name": "Python 3 (ipykernel)",
   "language": "python",
   "name": "python3"
  },
  "language_info": {
   "codemirror_mode": {
    "name": "ipython",
    "version": 3
   },
   "file_extension": ".py",
   "mimetype": "text/x-python",
   "name": "python",
   "nbconvert_exporter": "python",
   "pygments_lexer": "ipython3",
   "version": "3.10.13"
  }
 },
 "nbformat": 4,
 "nbformat_minor": 5
}
